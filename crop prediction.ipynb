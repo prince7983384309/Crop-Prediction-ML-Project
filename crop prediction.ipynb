{
 "cells": [
  {
   "cell_type": "markdown",
   "id": "6148e979",
   "metadata": {},
   "source": [
    "### PROBLEM STATEMENT : Percision Farming\n",
    "Build a predictive model to suggest the most suitable crops to grow based on the available climate \n",
    "and soil condition."
   ]
  },
  {
   "cell_type": "markdown",
   "id": "b611b424",
   "metadata": {},
   "source": [
    "### Goal :\n",
    "To predict a good farming model by optimizing the agriculture production."
   ]
  },
  {
   "cell_type": "code",
   "execution_count": 5,
   "id": "2aaf5bee",
   "metadata": {},
   "outputs": [],
   "source": [
    "import pandas as pd\n",
    "import numpy as np\n",
    "import matplotlib.pyplot as plt\n",
    "import seaborn as sns\n",
    "from ipywidgets import interact"
   ]
  },
  {
   "cell_type": "code",
   "execution_count": 6,
   "id": "754b3fdf",
   "metadata": {},
   "outputs": [
    {
     "data": {
      "text/html": [
       "<div>\n",
       "<style scoped>\n",
       "    .dataframe tbody tr th:only-of-type {\n",
       "        vertical-align: middle;\n",
       "    }\n",
       "\n",
       "    .dataframe tbody tr th {\n",
       "        vertical-align: top;\n",
       "    }\n",
       "\n",
       "    .dataframe thead th {\n",
       "        text-align: right;\n",
       "    }\n",
       "</style>\n",
       "<table border=\"1\" class=\"dataframe\">\n",
       "  <thead>\n",
       "    <tr style=\"text-align: right;\">\n",
       "      <th></th>\n",
       "      <th>N</th>\n",
       "      <th>P</th>\n",
       "      <th>K</th>\n",
       "      <th>temperature</th>\n",
       "      <th>humidity</th>\n",
       "      <th>ph</th>\n",
       "      <th>rainfall</th>\n",
       "      <th>label</th>\n",
       "    </tr>\n",
       "  </thead>\n",
       "  <tbody>\n",
       "    <tr>\n",
       "      <th>0</th>\n",
       "      <td>90</td>\n",
       "      <td>42</td>\n",
       "      <td>43</td>\n",
       "      <td>20.879744</td>\n",
       "      <td>82.002744</td>\n",
       "      <td>6.502985</td>\n",
       "      <td>202.935536</td>\n",
       "      <td>rice</td>\n",
       "    </tr>\n",
       "    <tr>\n",
       "      <th>1</th>\n",
       "      <td>85</td>\n",
       "      <td>58</td>\n",
       "      <td>41</td>\n",
       "      <td>21.770462</td>\n",
       "      <td>80.319644</td>\n",
       "      <td>7.038096</td>\n",
       "      <td>226.655537</td>\n",
       "      <td>rice</td>\n",
       "    </tr>\n",
       "    <tr>\n",
       "      <th>2</th>\n",
       "      <td>60</td>\n",
       "      <td>55</td>\n",
       "      <td>44</td>\n",
       "      <td>23.004459</td>\n",
       "      <td>82.320763</td>\n",
       "      <td>7.840207</td>\n",
       "      <td>263.964248</td>\n",
       "      <td>rice</td>\n",
       "    </tr>\n",
       "    <tr>\n",
       "      <th>3</th>\n",
       "      <td>74</td>\n",
       "      <td>35</td>\n",
       "      <td>40</td>\n",
       "      <td>26.491096</td>\n",
       "      <td>80.158363</td>\n",
       "      <td>6.980401</td>\n",
       "      <td>242.864034</td>\n",
       "      <td>rice</td>\n",
       "    </tr>\n",
       "    <tr>\n",
       "      <th>4</th>\n",
       "      <td>78</td>\n",
       "      <td>42</td>\n",
       "      <td>42</td>\n",
       "      <td>20.130175</td>\n",
       "      <td>81.604873</td>\n",
       "      <td>7.628473</td>\n",
       "      <td>262.717340</td>\n",
       "      <td>rice</td>\n",
       "    </tr>\n",
       "  </tbody>\n",
       "</table>\n",
       "</div>"
      ],
      "text/plain": [
       "    N   P   K  temperature   humidity        ph    rainfall label\n",
       "0  90  42  43    20.879744  82.002744  6.502985  202.935536  rice\n",
       "1  85  58  41    21.770462  80.319644  7.038096  226.655537  rice\n",
       "2  60  55  44    23.004459  82.320763  7.840207  263.964248  rice\n",
       "3  74  35  40    26.491096  80.158363  6.980401  242.864034  rice\n",
       "4  78  42  42    20.130175  81.604873  7.628473  262.717340  rice"
      ]
     },
     "execution_count": 6,
     "metadata": {},
     "output_type": "execute_result"
    }
   ],
   "source": [
    "# read the crop_data file.\n",
    "crop_data = pd.read_csv('crop_data.csv')\n",
    "crop_data.head()"
   ]
  },
  {
   "cell_type": "code",
   "execution_count": 7,
   "id": "631228c5",
   "metadata": {},
   "outputs": [
    {
     "name": "stdout",
     "output_type": "stream",
     "text": [
      "shape of crop_data : (2200, 8)\n"
     ]
    }
   ],
   "source": [
    "# shape of the dataset.\n",
    "print('shape of crop_data :', crop_data.shape)"
   ]
  },
  {
   "cell_type": "code",
   "execution_count": 8,
   "id": "06595319",
   "metadata": {},
   "outputs": [
    {
     "data": {
      "text/plain": [
       "N              0\n",
       "P              0\n",
       "K              0\n",
       "temperature    0\n",
       "humidity       0\n",
       "ph             0\n",
       "rainfall       0\n",
       "label          0\n",
       "dtype: int64"
      ]
     },
     "execution_count": 8,
     "metadata": {},
     "output_type": "execute_result"
    }
   ],
   "source": [
    "# check the missing values.\n",
    "crop_data.isnull().sum()"
   ]
  },
  {
   "cell_type": "code",
   "execution_count": 9,
   "id": "d1acbec9",
   "metadata": {},
   "outputs": [
    {
     "data": {
      "text/plain": [
       "rice           100\n",
       "maize          100\n",
       "jute           100\n",
       "cotton         100\n",
       "coconut        100\n",
       "papaya         100\n",
       "orange         100\n",
       "apple          100\n",
       "muskmelon      100\n",
       "watermelon     100\n",
       "grapes         100\n",
       "mango          100\n",
       "banana         100\n",
       "pomegranate    100\n",
       "lentil         100\n",
       "blackgram      100\n",
       "mungbean       100\n",
       "mothbeans      100\n",
       "pigeonpeas     100\n",
       "kidneybeans    100\n",
       "chickpea       100\n",
       "coffee         100\n",
       "Name: label, dtype: int64"
      ]
     },
     "execution_count": 9,
     "metadata": {},
     "output_type": "execute_result"
    }
   ],
   "source": [
    "# check number of crops present in this dataset.\n",
    "crop_data['label'].value_counts()"
   ]
  },
  {
   "cell_type": "code",
   "execution_count": 10,
   "id": "b49bac62",
   "metadata": {},
   "outputs": [
    {
     "name": "stdout",
     "output_type": "stream",
     "text": [
      "Avrage Nitrogen in the soil : 50.552\n",
      "Avrage Phosphorus in the soil : 53.363\n",
      "Avrage Potasium in the soil : 48.149\n",
      "Avrage Temperature in the celcius : 25.616\n",
      "Avrage Humidity in % : 71.482\n",
      "Avrage PH value in the soil : 6.469\n",
      "Avrage Rainfall in mm : 103.464\n"
     ]
    }
   ],
   "source": [
    "# check the summary for all the elements.\n",
    "print('Avrage Nitrogen in the soil : {0:.3f}'.format (crop_data['N'].mean()))\n",
    "print('Avrage Phosphorus in the soil : {0:.3f}'.format (crop_data['P'].mean()))\n",
    "print('Avrage Potasium in the soil : {0:.3f}'.format (crop_data['K'].mean()))\n",
    "print('Avrage Temperature in the celcius : {0:.3f}'.format (crop_data['temperature'].mean()))\n",
    "print('Avrage Humidity in % : {0:.3f}'.format (crop_data['humidity'].mean()))\n",
    "print('Avrage PH value in the soil : {0:.3f}'.format (crop_data['ph'].mean()))\n",
    "print('Avrage Rainfall in mm : {0:.3f}'.format (crop_data['rainfall'].mean()))\n"
   ]
  },
  {
   "cell_type": "code",
   "execution_count": 11,
   "id": "1a796ef9",
   "metadata": {},
   "outputs": [
    {
     "data": {
      "application/vnd.jupyter.widget-view+json": {
       "model_id": "f4c7325bddc6443a9e5d559c6e322a9c",
       "version_major": 2,
       "version_minor": 0
      },
      "text/plain": [
       "interactive(children=(Dropdown(description='crops', options=('rice', 'maize', 'jute', 'cotton', 'coconut', 'pa…"
      ]
     },
     "metadata": {},
     "output_type": "display_data"
    }
   ],
   "source": [
    "# check the all components requirments according to crops.\n",
    "\n",
    "@interact\n",
    "def summary(crops = list(crop_data['label'].value_counts().index)):\n",
    "    x = crop_data[crop_data['label'] == crops]\n",
    "    print('-----------------------------------')\n",
    "    print('statistics for Nitrogen :')\n",
    "    print('Minimum Nitrogen in the soil : {0:.3f}'.format (x['N'].min()))\n",
    "    print('Avrage Nitrogen in the soil : {0:.3f}'.format (x['N'].mean()))\n",
    "    print('Maximum Nitrogen in the soil : {0:.3f}'.format (x['N'].max()))\n",
    "    print('-----------------------------------')\n",
    "    print('statistics for Phosphorus :')\n",
    "    print('Minimum Phosphorus in the soil : {0:.3f}'.format (x['P'].min()))\n",
    "    print('Avrage Phosphorus in the soil : {0:.3f}'.format (x['P'].mean()))\n",
    "    print('Maximum Phosphorus in the soil : {0:.3f}'.format (x['P'].max()))\n",
    "    print('-----------------------------------')\n",
    "    print('statistics for Potasium :')\n",
    "    print('Minimum Potasium in the soil : {0:.3f}'.format (x['K'].min()))\n",
    "    print('Avrage Potasium in the soil : {0:.3f}'.format (x['K'].mean()))\n",
    "    print('Maximum Potasium in the soil : {0:.3f}'.format (x['K'].max()))\n",
    "    print('-----------------------------------')\n",
    "    print('statistics for Tempereture:')\n",
    "    print('Minimum temperature in the soil : {0:.3f}'.format (x['temperature'].min()))\n",
    "    print('Avrage temperature in the soil : {0:.3f}'.format (x['temperature'].mean()))\n",
    "    print('Maximum temperature in the soil : {0:.3f}'.format (x['temperature'].max()))\n",
    "    print('-----------------------------------')\n",
    "    print('statistics for humidity:')\n",
    "    print('Minimum humidity in the soil : {0:.3f}'.format (x['humidity'].min()))\n",
    "    print('Avrage humidity in the soil : {0:.3f}'.format (x['humidity'].mean()))\n",
    "    print('Maximum humidity in the soil : {0:.3f}'.format (x['humidity'].max()))\n",
    "    print('-----------------------------------')\n",
    "    print('statistics for ph:')\n",
    "    print('Minimum ph in the soil : {0:.3f}'.format (x['ph'].min()))\n",
    "    print('Avrage ph in the soil : {0:.3f}'.format (x['ph'].mean()))\n",
    "    print('Maximum ph in the soil : {0:.3f}'.format (x['ph'].max()))\n",
    "    print('-----------------------------------')\n",
    "    print('statistics for rainfall:')\n",
    "    print('Minimum rainfall in the soil : {0:.3f}'.format (x['rainfall'].min()))\n",
    "    print('Avrage rainfall in the soil : {0:.3f}'.format (x['rainfall'].mean()))\n",
    "    print('Maximum rainfall in the soil : {0:.3f}'.format (x['rainfall'].max()))\n",
    "    print('-----------------------------------')"
   ]
  },
  {
   "cell_type": "code",
   "execution_count": 12,
   "id": "b9a632ea",
   "metadata": {},
   "outputs": [
    {
     "data": {
      "application/vnd.jupyter.widget-view+json": {
       "model_id": "61057a02438f4928a42baf054b73b264",
       "version_major": 2,
       "version_minor": 0
      },
      "text/plain": [
       "interactive(children=(Dropdown(description='condition', options=('N', 'P', 'K', 'temperature', 'humidity', 'ph…"
      ]
     },
     "metadata": {},
     "output_type": "display_data"
    }
   ],
   "source": [
    "# check all requirments for each crops coparision.\n",
    "@interact\n",
    "def compare(condition = ['N', 'P', 'K', 'temperature', 'humidity', 'ph', 'rainfall']):\n",
    "    print('Avrage value for ', condition , 'is {0:.2f}'.format(crop_data[condition].mean()))\n",
    "    print('-----------------------------------')\n",
    "    print('Rice : {0:.2f}'.format(crop_data[(crop_data['label'] == 'rice')][condition].mean()))\n",
    "    print('Maize : {0:.2f}'.format(crop_data[(crop_data['label'] == 'maize')][condition].mean()))\n",
    "    print('Jute : {0:.2f}'.format(crop_data[(crop_data['label'] == 'jute')][condition].mean()))\n",
    "    print('Cotton : {0:.2f}'.format(crop_data[(crop_data['label'] == 'cotton')][condition].mean()))\n",
    "    print('Coconut : {0:.2f}'.format(crop_data[(crop_data['label'] == 'coconut')][condition].mean()))\n",
    "    print('Papaya : {0:.2f}'.format(crop_data[(crop_data['label'] == 'papaya')][condition].mean()))\n",
    "    print('Orange : {0:.2f}'.format(crop_data[(crop_data['label'] == 'orange')][condition].mean()))\n",
    "    print('Apple : {0:.2f}'.format(crop_data[(crop_data['label'] == 'apple')][condition].mean()))\n",
    "    print('Muskmelon : {0:.2f}'.format(crop_data[(crop_data['label'] == 'muskmelon')][condition].mean()))\n",
    "    print('Watermelon : {0:.2f}'.format(crop_data[(crop_data['label'] == 'watermelon')][condition].mean()))\n",
    "    print('Grapes : {0:.2f}'.format(crop_data[(crop_data['label'] == 'grapes')][condition].mean()))\n",
    "    print('Mango : {0:.2f}'.format(crop_data[(crop_data['label'] == 'mango')][condition].mean()))\n",
    "    print('Banana : {0:.2f}'.format(crop_data[(crop_data['label'] == 'banana')][condition].mean()))\n",
    "    print('Pomegranate : {0:.2f}'.format(crop_data[(crop_data['label'] == 'pomegranate')][condition].mean()))\n",
    "    print('lentil : {0:.2f}'.format(crop_data[(crop_data['label'] == 'lentil')][condition].mean()))\n",
    "    print('Blackgram : {0:.2f}'.format(crop_data[(crop_data['label'] == 'blackgram')][condition].mean()))\n",
    "    print('Mungbean : {0:.2f}'.format(crop_data[(crop_data['label'] == 'mungbean')][condition].mean()))\n",
    "    print('Mothbeans : {0:.2f}'.format(crop_data[(crop_data['label'] == 'mothbeans')][condition].mean()))\n",
    "    print('Kidneybeans : {0:.2f}'.format(crop_data[(crop_data['label'] == 'kidneybeans')][condition].mean()))\n",
    "    print('Chickpea : {0:.2f}'.format(crop_data[(crop_data['label'] == 'chickpea')][condition].mean()))\n",
    "    print('Coffee : {0:.2f}'.format(crop_data[(crop_data['label'] == 'coffee')][condition].mean()))\n",
    "    print('Pigeonpeas : {0:.2f}'.format(crop_data[(crop_data['label'] == 'pigeonpeas')][condition].mean()))\n",
    "\n",
    "\n"
   ]
  },
  {
   "cell_type": "code",
   "execution_count": 13,
   "id": "d372e8be",
   "metadata": {},
   "outputs": [
    {
     "data": {
      "application/vnd.jupyter.widget-view+json": {
       "model_id": "f47eeeeb13fe4decb1d85ceea857daab",
       "version_major": 2,
       "version_minor": 0
      },
      "text/plain": [
       "interactive(children=(Dropdown(description='condition', options=('N', 'P', 'K', 'temperature', 'humidity', 'ph…"
      ]
     },
     "metadata": {},
     "output_type": "display_data"
    }
   ],
   "source": [
    "# find the crops which can grown below or above elements avrage cinditions.\n",
    "@interact\n",
    "def comparing(condition = ['N', 'P', 'K', 'temperature', 'humidity', 'ph', 'rainfall']):\n",
    "    print('Crops who require greater than avrage condition : ', condition,'\\n')\n",
    "    print(crop_data[crop_data[condition] > crop_data[condition].mean()]['label'].unique())\n",
    "    print('-----------------------------------------')\n",
    "    print('Crops who require below than avrage condition : ', condition,'\\n')\n",
    "    print(crop_data[crop_data[condition] <= crop_data[condition].mean()]['label'].unique())\n"
   ]
  },
  {
   "cell_type": "code",
   "execution_count": 14,
   "id": "90804014",
   "metadata": {},
   "outputs": [
    {
     "name": "stderr",
     "output_type": "stream",
     "text": [
      "C:\\Users\\ABC\\AppData\\Local\\Temp\\ipykernel_3200\\1164615192.py:4: UserWarning: \n",
      "\n",
      "`distplot` is a deprecated function and will be removed in seaborn v0.14.0.\n",
      "\n",
      "Please adapt your code to use either `displot` (a figure-level function with\n",
      "similar flexibility) or `histplot` (an axes-level function for histograms).\n",
      "\n",
      "For a guide to updating your code to use the new functions, please see\n",
      "https://gist.github.com/mwaskom/de44147ed2974457ad6372750bbe5751\n",
      "\n",
      "  sns.distplot(crop_data['N'] , color = 'green')\n",
      "C:\\Users\\ABC\\AppData\\Local\\Temp\\ipykernel_3200\\1164615192.py:10: UserWarning: \n",
      "\n",
      "`distplot` is a deprecated function and will be removed in seaborn v0.14.0.\n",
      "\n",
      "Please adapt your code to use either `displot` (a figure-level function with\n",
      "similar flexibility) or `histplot` (an axes-level function for histograms).\n",
      "\n",
      "For a guide to updating your code to use the new functions, please see\n",
      "https://gist.github.com/mwaskom/de44147ed2974457ad6372750bbe5751\n",
      "\n",
      "  sns.distplot(crop_data['P'] , color = 'blue')\n",
      "C:\\Users\\ABC\\AppData\\Local\\Temp\\ipykernel_3200\\1164615192.py:16: UserWarning: \n",
      "\n",
      "`distplot` is a deprecated function and will be removed in seaborn v0.14.0.\n",
      "\n",
      "Please adapt your code to use either `displot` (a figure-level function with\n",
      "similar flexibility) or `histplot` (an axes-level function for histograms).\n",
      "\n",
      "For a guide to updating your code to use the new functions, please see\n",
      "https://gist.github.com/mwaskom/de44147ed2974457ad6372750bbe5751\n",
      "\n",
      "  sns.distplot(crop_data['K'] , color = 'red')\n",
      "C:\\Users\\ABC\\AppData\\Local\\Temp\\ipykernel_3200\\1164615192.py:22: UserWarning: \n",
      "\n",
      "`distplot` is a deprecated function and will be removed in seaborn v0.14.0.\n",
      "\n",
      "Please adapt your code to use either `displot` (a figure-level function with\n",
      "similar flexibility) or `histplot` (an axes-level function for histograms).\n",
      "\n",
      "For a guide to updating your code to use the new functions, please see\n",
      "https://gist.github.com/mwaskom/de44147ed2974457ad6372750bbe5751\n",
      "\n",
      "  sns.distplot(crop_data['humidity'] , color = 'skyblue')\n",
      "C:\\Users\\ABC\\AppData\\Local\\Temp\\ipykernel_3200\\1164615192.py:28: UserWarning: \n",
      "\n",
      "`distplot` is a deprecated function and will be removed in seaborn v0.14.0.\n",
      "\n",
      "Please adapt your code to use either `displot` (a figure-level function with\n",
      "similar flexibility) or `histplot` (an axes-level function for histograms).\n",
      "\n",
      "For a guide to updating your code to use the new functions, please see\n",
      "https://gist.github.com/mwaskom/de44147ed2974457ad6372750bbe5751\n",
      "\n",
      "  sns.distplot(crop_data['ph'] , color = 'yellow')\n",
      "C:\\Users\\ABC\\AppData\\Local\\Temp\\ipykernel_3200\\1164615192.py:34: UserWarning: \n",
      "\n",
      "`distplot` is a deprecated function and will be removed in seaborn v0.14.0.\n",
      "\n",
      "Please adapt your code to use either `displot` (a figure-level function with\n",
      "similar flexibility) or `histplot` (an axes-level function for histograms).\n",
      "\n",
      "For a guide to updating your code to use the new functions, please see\n",
      "https://gist.github.com/mwaskom/de44147ed2974457ad6372750bbe5751\n",
      "\n",
      "  sns.distplot(crop_data['rainfall'] , color = 'pink')\n",
      "C:\\Users\\ABC\\AppData\\Local\\Temp\\ipykernel_3200\\1164615192.py:40: UserWarning: \n",
      "\n",
      "`distplot` is a deprecated function and will be removed in seaborn v0.14.0.\n",
      "\n",
      "Please adapt your code to use either `displot` (a figure-level function with\n",
      "similar flexibility) or `histplot` (an axes-level function for histograms).\n",
      "\n",
      "For a guide to updating your code to use the new functions, please see\n",
      "https://gist.github.com/mwaskom/de44147ed2974457ad6372750bbe5751\n",
      "\n",
      "  sns.distplot(crop_data['temperature'] , color = 'orange')\n"
     ]
    },
    {
     "data": {
      "image/png": "[encoded data removed]",
      "text/plain": [
       "<Figure size 640x480 with 7 Axes>"
      ]
     },
     "metadata": {},
     "output_type": "display_data"
    }
   ],
   "source": [
    "# check the distributed charts for every elements.\n",
    "\n",
    "plt.subplot(2,4,1)\n",
    "sns.distplot(crop_data['N'] , color = 'green')\n",
    "plt.xlabel('ratio of nitrogen', fontsize=10)\n",
    "plt.tight_layout()\n",
    "plt.grid()\n",
    "\n",
    "plt.subplot(2,4,2)\n",
    "sns.distplot(crop_data['P'] , color = 'blue')\n",
    "plt.xlabel('ratio of phosphorus', fontsize=10)\n",
    "plt.tight_layout()\n",
    "plt.grid()\n",
    "\n",
    "plt.subplot(2,4,3)\n",
    "sns.distplot(crop_data['K'] , color = 'red')\n",
    "plt.xlabel('ratio of potasium', fontsize=10)\n",
    "plt.tight_layout()\n",
    "plt.grid()\n",
    "\n",
    "plt.subplot(2,4,4)\n",
    "sns.distplot(crop_data['humidity'] , color = 'skyblue')\n",
    "plt.xlabel('ratio of humidity', fontsize=10)\n",
    "plt.tight_layout()\n",
    "plt.grid()\n",
    "\n",
    "plt.subplot(2,4,5)\n",
    "sns.distplot(crop_data['ph'] , color = 'yellow')\n",
    "plt.xlabel('ratio of ph', fontsize=10)\n",
    "plt.tight_layout()\n",
    "plt.grid()\n",
    "\n",
    "plt.subplot(2,4,6)\n",
    "sns.distplot(crop_data['rainfall'] , color = 'pink')\n",
    "plt.xlabel('ratio of rainfall', fontsize=10)\n",
    "plt.tight_layout()\n",
    "plt.grid()\n",
    "\n",
    "plt.subplot(2,4,7)\n",
    "sns.distplot(crop_data['temperature'] , color = 'orange')\n",
    "plt.xlabel('ratio of temperature', fontsize=10)\n",
    "plt.tight_layout()\n",
    "plt.grid()\n",
    "\n",
    "#plt.suptitle('Distribution charts of every climatical condition ', fontsize = 20)\n",
    "\n",
    "plt.show()"
   ]
  },
  {
   "cell_type": "code",
   "execution_count": 15,
   "id": "34a794d7",
   "metadata": {},
   "outputs": [
    {
     "name": "stdout",
     "output_type": "stream",
     "text": [
      "crops which need very high Nitrogen level in soil : ['cotton']\n",
      "crops which need very high Phosphorus level in soil : ['grapes' 'apple']\n",
      "crops which need very high Potasium level in soil : ['grapes' 'apple']\n",
      "crops which need very high ph level in soil : ['pigeonpeas' 'mothbeans' 'mango']\n",
      "crops which need very high rainfall level in soil : ['rice' 'papaya' 'coconut']\n",
      "crops which need very high temerature level in soil : ['grapes' 'papaya']\n",
      "crops which need very low temprature level in soil : ['grapes' 'orange']\n",
      "crops which need very low humidity level in soil : ['chickpea' 'kidneybeans']\n"
     ]
    }
   ],
   "source": [
    "# some patterns.\n",
    "print('crops which need very high Nitrogen level in soil :', crop_data[crop_data['N']>120]['label'].unique())\n",
    "print('crops which need very high Phosphorus level in soil :', crop_data[crop_data['P']>100]['label'].unique())\n",
    "print('crops which need very high Potasium level in soil :', crop_data[crop_data['K']>200]['label'].unique())\n",
    "print('crops which need very high ph level in soil :', crop_data[crop_data['ph']<5]['label'].unique())\n",
    "print('crops which need very high rainfall level in soil :', crop_data[crop_data['rainfall']>210]['label'].unique())\n",
    "print('crops which need very high temerature level in soil :', crop_data[crop_data['temperature']>40]['label'].unique())\n",
    "print('crops which need very low temprature level in soil :', crop_data[crop_data['temperature']<15]['label'].unique())\n",
    "print('crops which need very low humidity level in soil :', crop_data[crop_data['humidity']<20]['label'].unique())\n"
   ]
  },
  {
   "cell_type": "code",
   "execution_count": 16,
   "id": "61db5b50",
   "metadata": {},
   "outputs": [
    {
     "name": "stdout",
     "output_type": "stream",
     "text": [
      "Crops which can grow in summer only : \n",
      "['pigeonpeas' 'mothbeans' 'blackgram' 'mango' 'grapes' 'orange' 'papaya']\n",
      "-------------------------------------------------------------------------\n",
      "Crops which can grow in winter only : \n",
      "['maize' 'pigeonpeas' 'lentil' 'pomegranate' 'grapes' 'orange']\n",
      "-------------------------------------------------------------------------\n",
      "Crops which can grow in rain only : \n",
      "['rice' 'papaya' 'coconut']\n"
     ]
    }
   ],
   "source": [
    "# find the weather wise crops.\n",
    "print('Crops which can grow in summer only : ')\n",
    "print(crop_data[(crop_data['temperature']>30) & (crop_data['humidity']>50)]['label'].unique())\n",
    "print('-------------------------------------------------------------------------')\n",
    "print('Crops which can grow in winter only : ')\n",
    "print(crop_data[(crop_data['temperature']<20) & (crop_data['humidity']>30)]['label'].unique())\n",
    "print('-------------------------------------------------------------------------')\n",
    "print('Crops which can grow in rain only : ')\n",
    "print(crop_data[(crop_data['rainfall']>200) & (crop_data['humidity']>30)]['label'].unique())"
   ]
  },
  {
   "cell_type": "code",
   "execution_count": 17,
   "id": "fa34f835",
   "metadata": {},
   "outputs": [],
   "source": [
    "\n",
    "X = crop_data.iloc[:, : 7].values"
   ]
  },
  {
   "cell_type": "code",
   "execution_count": 18,
   "id": "c4bf8505",
   "metadata": {},
   "outputs": [
    {
     "data": {
      "text/plain": [
       "array([[ 90.        ,  42.        ,  43.        , ...,  82.00274423,\n",
       "          6.50298529, 202.9355362 ],\n",
       "       [ 85.        ,  58.        ,  41.        , ...,  80.31964408,\n",
       "          7.03809636, 226.6555374 ],\n",
       "       [ 60.        ,  55.        ,  44.        , ...,  82.3207629 ,\n",
       "          7.84020714, 263.9642476 ],\n",
       "       ...,\n",
       "       [118.        ,  33.        ,  30.        , ...,  67.22512329,\n",
       "          6.36260785, 173.3228386 ],\n",
       "       [117.        ,  32.        ,  34.        , ...,  52.12739421,\n",
       "          6.75879255, 127.1752928 ],\n",
       "       [104.        ,  18.        ,  30.        , ...,  60.39647474,\n",
       "          6.77983261, 140.9370415 ]])"
      ]
     },
     "execution_count": 18,
     "metadata": {},
     "output_type": "execute_result"
    }
   ],
   "source": [
    "X"
   ]
  },
  {
   "cell_type": "code",
   "execution_count": 19,
   "id": "3173a9db",
   "metadata": {},
   "outputs": [
    {
     "data": {
      "image/png": "[encoded data removed]",
      "text/plain": [
       "<Figure size 640x480 with 1 Axes>"
      ]
     },
     "metadata": {},
     "output_type": "display_data"
    }
   ],
   "source": [
    "#finding optimal number of clusters using the elbow method  \n",
    "from sklearn.cluster import KMeans\n",
    "wcss = []\n",
    "for k in range(1,11):\n",
    "    kmeans = KMeans(init=\"k-means++\", n_clusters=k, n_init=10, max_iter=300, random_state=0)\n",
    "    kmeans.fit(X)\n",
    "    wcss.append(kmeans.inertia_)\n",
    "plt.plot(range(1,11), wcss)\n",
    "plt.title('The Elbow Method')\n",
    "plt.xlabel('Number of clusters')\n",
    "plt.ylabel('WCSS')\n",
    "plt.show()"
   ]
  },
  {
   "cell_type": "code",
   "execution_count": 27,
   "id": "617f6280",
   "metadata": {},
   "outputs": [
    {
     "name": "stdout",
     "output_type": "stream",
     "text": [
      "crops in first cluster : ['maize' 'chickpea' 'kidneybeans' 'pigeonpeas' 'mothbeans' 'mungbean'\n",
      " 'blackgram' 'lentil' 'pomegranate' 'mango' 'orange' 'papaya' 'coconut']\n",
      "---------------------------------------------------------------\n",
      "crops in second cluster : ['maize' 'banana' 'watermelon' 'muskmelon' 'papaya' 'cotton' 'coffee']\n",
      "---------------------------------------------------------------\n",
      "crops in third cluster : ['grapes' 'apple']\n",
      "---------------------------------------------------------------\n",
      "crops in fourth cluster : ['rice' 'pigeonpeas' 'papaya' 'coconut' 'jute' 'coffee']\n"
     ]
    }
   ],
   "source": [
    "# implimenting K-mean algorrithm.\n",
    "kmeans = KMeans(init=\"k-means++\", n_clusters=4, n_init=10, max_iter=300, random_state=0)\n",
    "y_means = kmeans.fit_predict(X)\n",
    "\n",
    "a = crop_data['label']\n",
    "y_means = pd.DataFrame(y_means)\n",
    "z = pd.concat([y_means,a], axis=1)\n",
    "z = z.rename(columns = {0 : 'cluster'})\n",
    "\n",
    "\n",
    "print('crops in first cluster :', z[z['cluster']==0]['label'].unique())\n",
    "print('---------------------------------------------------------------')\n",
    "print('crops in second cluster :', z[z['cluster']==1]['label'].unique())\n",
    "print('---------------------------------------------------------------')\n",
    "print('crops in third cluster :', z[z['cluster']==2]['label'].unique())\n",
    "print('---------------------------------------------------------------')\n",
    "print('crops in fourth cluster :', z[z['cluster']==3]['label'].unique())"
   ]
  },
  {
   "cell_type": "markdown",
   "id": "9bec2e11",
   "metadata": {},
   "source": [
    "### Lodistic Regression."
   ]
  },
  {
   "cell_type": "code",
   "execution_count": 28,
   "id": "bbf7bdc5",
   "metadata": {},
   "outputs": [
    {
     "name": "stdout",
     "output_type": "stream",
     "text": [
      "(2200, 7)\n",
      "(2200,)\n"
     ]
    }
   ],
   "source": [
    "X = crop_data.drop(['label'], axis = 1)\n",
    "y = crop_data['label']\n",
    "\n",
    "print(X.shape)\n",
    "print(y.shape)"
   ]
  },
  {
   "cell_type": "code",
   "execution_count": 30,
   "id": "7531da93",
   "metadata": {},
   "outputs": [
    {
     "name": "stdout",
     "output_type": "stream",
     "text": [
      "(1760, 7)\n",
      "(440, 7)\n",
      "(1760,)\n",
      "(440,)\n"
     ]
    }
   ],
   "source": [
    "# splitting the data into train and test dataset.\n",
    "from sklearn.model_selection import train_test_split\n",
    "X_train,X_test,y_train,y_test = train_test_split(X, y, test_size=0.2, random_state=0)\n",
    "\n",
    "print(X_train.shape)\n",
    "print(X_test.shape)\n",
    "print(y_train.shape)\n",
    "print(y_test.shape)"
   ]
  },
  {
   "cell_type": "code",
   "execution_count": 33,
   "id": "ebd12830",
   "metadata": {},
   "outputs": [
    {
     "name": "stderr",
     "output_type": "stream",
     "text": [
      "C:\\Users\\ABC\\anaconda3\\lib\\site-packages\\sklearn\\linear_model\\_logistic.py:458: ConvergenceWarning: lbfgs failed to converge (status=1):\n",
      "STOP: TOTAL NO. of ITERATIONS REACHED LIMIT.\n",
      "\n",
      "Increase the number of iterations (max_iter) or scale the data as shown in:\n",
      "    https://scikit-learn.org/stable/modules/preprocessing.html\n",
      "Please also refer to the documentation for alternative solver options:\n",
      "    https://scikit-learn.org/stable/modules/linear_model.html#logistic-regression\n",
      "  n_iter_i = _check_optimize_result(\n"
     ]
    }
   ],
   "source": [
    "# create a predictive model.\n",
    "from sklearn.linear_model import LogisticRegression\n",
    "model = LogisticRegression()\n",
    "model.fit(X_train,y_train)\n",
    "y_pred = model.predict(X_test)"
   ]
  },
  {
   "cell_type": "code",
   "execution_count": 37,
   "id": "7bf73164",
   "metadata": {},
   "outputs": [
    {
     "data": {
      "image/png": "[encoded data removed]",
      "text/plain": [
       "<Figure size 800x600 with 2 Axes>"
      ]
     },
     "metadata": {},
     "output_type": "display_data"
    }
   ],
   "source": [
    "# check the model performance by cinfusion matrix.\n",
    "from sklearn.metrics import confusion_matrix\n",
    "\n",
    "plt.rcParams['figure.figsize'] = (8,6)\n",
    "cm = confusion_matrix(y_test, y_pred)\n",
    "sns.heatmap(cm, annot=True, cmap='Wistia')\n",
    "plt.title('confusion matrix for logistic regression')\n",
    "plt.show()"
   ]
  },
  {
   "cell_type": "code",
   "execution_count": 39,
   "id": "bed56b65",
   "metadata": {},
   "outputs": [
    {
     "name": "stdout",
     "output_type": "stream",
     "text": [
      "              precision    recall  f1-score   support\n",
      "\n",
      "       apple       1.00      1.00      1.00        18\n",
      "      banana       1.00      1.00      1.00        18\n",
      "   blackgram       0.86      0.82      0.84        22\n",
      "    chickpea       1.00      1.00      1.00        23\n",
      "     coconut       1.00      1.00      1.00        15\n",
      "      coffee       1.00      1.00      1.00        17\n",
      "      cotton       0.89      1.00      0.94        16\n",
      "      grapes       1.00      1.00      1.00        18\n",
      "        jute       0.84      1.00      0.91        21\n",
      " kidneybeans       1.00      1.00      1.00        20\n",
      "      lentil       0.94      0.94      0.94        17\n",
      "       maize       0.94      0.89      0.91        18\n",
      "       mango       1.00      1.00      1.00        21\n",
      "   mothbeans       0.88      0.92      0.90        25\n",
      "    mungbean       1.00      1.00      1.00        17\n",
      "   muskmelon       1.00      1.00      1.00        23\n",
      "      orange       1.00      1.00      1.00        23\n",
      "      papaya       1.00      0.95      0.98        21\n",
      "  pigeonpeas       1.00      1.00      1.00        22\n",
      " pomegranate       1.00      1.00      1.00        23\n",
      "        rice       1.00      0.84      0.91        25\n",
      "  watermelon       1.00      1.00      1.00        17\n",
      "\n",
      "    accuracy                           0.97       440\n",
      "   macro avg       0.97      0.97      0.97       440\n",
      "weighted avg       0.97      0.97      0.97       440\n",
      "\n"
     ]
    }
   ],
   "source": [
    "# classification report.\n",
    "from sklearn.metrics import classification_report\n",
    "report = classification_report(y_test, y_pred)\n",
    "print(report)"
   ]
  },
  {
   "cell_type": "code",
   "execution_count": 41,
   "id": "81237c27",
   "metadata": {},
   "outputs": [
    {
     "data": {
      "text/html": [
       "<div>\n",
       "<style scoped>\n",
       "    .dataframe tbody tr th:only-of-type {\n",
       "        vertical-align: middle;\n",
       "    }\n",
       "\n",
       "    .dataframe tbody tr th {\n",
       "        vertical-align: top;\n",
       "    }\n",
       "\n",
       "    .dataframe thead th {\n",
       "        text-align: right;\n",
       "    }\n",
       "</style>\n",
       "<table border=\"1\" class=\"dataframe\">\n",
       "  <thead>\n",
       "    <tr style=\"text-align: right;\">\n",
       "      <th></th>\n",
       "      <th>N</th>\n",
       "      <th>P</th>\n",
       "      <th>K</th>\n",
       "      <th>temperature</th>\n",
       "      <th>humidity</th>\n",
       "      <th>ph</th>\n",
       "      <th>rainfall</th>\n",
       "      <th>label</th>\n",
       "    </tr>\n",
       "  </thead>\n",
       "  <tbody>\n",
       "    <tr>\n",
       "      <th>0</th>\n",
       "      <td>90</td>\n",
       "      <td>42</td>\n",
       "      <td>43</td>\n",
       "      <td>20.879744</td>\n",
       "      <td>82.002744</td>\n",
       "      <td>6.502985</td>\n",
       "      <td>202.935536</td>\n",
       "      <td>rice</td>\n",
       "    </tr>\n",
       "    <tr>\n",
       "      <th>1</th>\n",
       "      <td>85</td>\n",
       "      <td>58</td>\n",
       "      <td>41</td>\n",
       "      <td>21.770462</td>\n",
       "      <td>80.319644</td>\n",
       "      <td>7.038096</td>\n",
       "      <td>226.655537</td>\n",
       "      <td>rice</td>\n",
       "    </tr>\n",
       "    <tr>\n",
       "      <th>2</th>\n",
       "      <td>60</td>\n",
       "      <td>55</td>\n",
       "      <td>44</td>\n",
       "      <td>23.004459</td>\n",
       "      <td>82.320763</td>\n",
       "      <td>7.840207</td>\n",
       "      <td>263.964248</td>\n",
       "      <td>rice</td>\n",
       "    </tr>\n",
       "    <tr>\n",
       "      <th>3</th>\n",
       "      <td>74</td>\n",
       "      <td>35</td>\n",
       "      <td>40</td>\n",
       "      <td>26.491096</td>\n",
       "      <td>80.158363</td>\n",
       "      <td>6.980401</td>\n",
       "      <td>242.864034</td>\n",
       "      <td>rice</td>\n",
       "    </tr>\n",
       "    <tr>\n",
       "      <th>4</th>\n",
       "      <td>78</td>\n",
       "      <td>42</td>\n",
       "      <td>42</td>\n",
       "      <td>20.130175</td>\n",
       "      <td>81.604873</td>\n",
       "      <td>7.628473</td>\n",
       "      <td>262.717340</td>\n",
       "      <td>rice</td>\n",
       "    </tr>\n",
       "  </tbody>\n",
       "</table>\n",
       "</div>"
      ],
      "text/plain": [
       "    N   P   K  temperature   humidity        ph    rainfall label\n",
       "0  90  42  43    20.879744  82.002744  6.502985  202.935536  rice\n",
       "1  85  58  41    21.770462  80.319644  7.038096  226.655537  rice\n",
       "2  60  55  44    23.004459  82.320763  7.840207  263.964248  rice\n",
       "3  74  35  40    26.491096  80.158363  6.980401  242.864034  rice\n",
       "4  78  42  42    20.130175  81.604873  7.628473  262.717340  rice"
      ]
     },
     "execution_count": 41,
     "metadata": {},
     "output_type": "execute_result"
    }
   ],
   "source": [
    "# lets check the model performance by givint any input data.\n",
    "crop_data.head()"
   ]
  },
  {
   "cell_type": "code",
   "execution_count": 42,
   "id": "6d0baeee",
   "metadata": {},
   "outputs": [
    {
     "name": "stdout",
     "output_type": "stream",
     "text": [
      "suggest crop is :  ['rice']\n"
     ]
    },
    {
     "name": "stderr",
     "output_type": "stream",
     "text": [
      "C:\\Users\\ABC\\anaconda3\\lib\\site-packages\\sklearn\\base.py:420: UserWarning: X does not have valid feature names, but LogisticRegression was fitted with feature names\n",
      "  warnings.warn(\n"
     ]
    }
   ],
   "source": [
    "prediction = model.predict((np.array([[90,40,43,21,83,6,200]])))\n",
    "print('suggest crop is : ', prediction)"
   ]
  },
  {
   "cell_type": "code",
   "execution_count": null,
   "id": "cab427c3",
   "metadata": {},
   "outputs": [],
   "source": []
  }
 ],
 "metadata": {
  "kernelspec": {
   "display_name": "Python 3 (ipykernel)",
   "language": "python",
   "name": "python3"
  },
  "language_info": {
   "codemirror_mode": {
    "name": "ipython",
    "version": 3
   },
   "file_extension": ".py",
   "mimetype": "text/x-python",
   "name": "python",
   "nbconvert_exporter": "python",
   "pygments_lexer": "ipython3",
   "version": "3.10.9"
  }
 },
 "nbformat": 4,
 "nbformat_minor": 5
}
